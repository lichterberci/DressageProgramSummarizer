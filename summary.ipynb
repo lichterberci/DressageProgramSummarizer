{
 "cells": [
  {
   "cell_type": "code",
   "execution_count": 9,
   "metadata": {},
   "outputs": [],
   "source": [
    "from bs4 import BeautifulSoup\n",
    "from PyPDF2 import PdfReader\n",
    "import requests\n",
    "import io\n",
    "import tabula\n",
    "import pandas as pd\n",
    "import numpy as np\n",
    "from pandas import DataFrame"
   ]
  },
  {
   "cell_type": "code",
   "execution_count": 10,
   "metadata": {},
   "outputs": [],
   "source": [
    "BASE_URL = \"https://dijlovasok.hu/index.php/programgyujt\""
   ]
  },
  {
   "cell_type": "code",
   "execution_count": 11,
   "metadata": {},
   "outputs": [],
   "source": [
    "def get_contents_of_page (url, headers = None) :\n",
    "    req = requests.get(url, headers = headers if headers != None else {\n",
    "        'User-Agent': \"Mozilla/5.0 (Windows NT 10.0; Win64; x64) AppleWebKit/537.36 (KHTML, like Gecko) Chrome/42.0.2311.135 Safari/537.36 Edge/12.246\"\n",
    "    })\n",
    "    \n",
    "    return req.content"
   ]
  },
  {
   "cell_type": "code",
   "execution_count": 12,
   "metadata": {},
   "outputs": [],
   "source": [
    "def soupify (content) :\n",
    "    return BeautifulSoup(content, \"html.parser\")"
   ]
  },
  {
   "cell_type": "code",
   "execution_count": 13,
   "metadata": {},
   "outputs": [],
   "source": [
    "def get_links_from_main_page ():\n",
    "    soup = soupify(get_contents_of_page(BASE_URL))\n",
    "    # print(soup.prettify())\n",
    "    program_hrefs = list(\n",
    "        set(\n",
    "            map(\n",
    "                lambda href: href[\"href\"], \n",
    "                filter(lambda href: href[\"href\"].startswith(\"/index.php/programgyujt/\"), \n",
    "                    soup.find_all(\"a\", href = True)\n",
    "                )\n",
    "            )\n",
    "        )\n",
    "    )\n",
    "    return program_hrefs    "
   ]
  },
  {
   "cell_type": "code",
   "execution_count": 14,
   "metadata": {},
   "outputs": [],
   "source": [
    "def get_pdf_links_from_page (url):\n",
    "    soup: BeautifulSoup = soupify(get_contents_of_page(url))\n",
    "    pdf_hrefs = list(\n",
    "            set(\n",
    "                map(\n",
    "                    lambda href: href[\"href\"], \n",
    "                    filter(lambda href: href[\"href\"].endswith(\".pdf\"), \n",
    "                        soup.find_all(\"a\", href = True)\n",
    "                    )\n",
    "                )\n",
    "            )\n",
    "        )\n",
    "    return pdf_hrefs"
   ]
  },
  {
   "cell_type": "code",
   "execution_count": 15,
   "metadata": {},
   "outputs": [],
   "source": [
    "def get_pdf_dataframes () :\n",
    "\n",
    "    pdf_texts = {}\n",
    "\n",
    "    for page_url in get_links_from_main_page() :\n",
    "        \n",
    "        print(f\"Scraping page {page_url}...\")\n",
    "        \n",
    "        page_content = {}\n",
    "        \n",
    "        for pdf_url in get_pdf_links_from_page(BASE_URL + page_url) :\n",
    "            \n",
    "            print(f\"Downloading pdf {pdf_url}...\")\n",
    "                        \n",
    "            user_agent= 'Mozilla/5.0 (X11; Windows; Windows x86_64) AppleWebKit/537.36 (KHTML, like Gecko) Chrome/103.0.5060.114 Safari/537.36'\n",
    "\n",
    "            dfs = tabula.read_pdf(\n",
    "                pdf_url, \n",
    "                multiple_tables=True, \n",
    "                pages=\"all\", \n",
    "                guess=True,\n",
    "                encoding=\"cp1252\",\n",
    "                user_agent=user_agent,\n",
    "                # output_format=\"dataframe\",\n",
    "                pandas_options={\n",
    "                    # \"names\": [\"ID\", \"Position\", \"Description\", \"Notes\"]\n",
    "                    \"header\": 0\n",
    "                },\n",
    "                lattice=True,\n",
    "                silent=True\n",
    "            )   \n",
    "                \n",
    "            if len(dfs) == 0 :\n",
    "                continue\n",
    "                \n",
    "            page_content[pdf_url] = dfs\n",
    "            \n",
    "        pdf_texts[page_url] = page_content\n",
    "        \n",
    "    return pdf_texts"
   ]
  },
  {
   "cell_type": "code",
   "execution_count": 16,
   "metadata": {},
   "outputs": [
    {
     "name": "stdout",
     "output_type": "stream",
     "text": [
      "Scraping page /index.php/programgyujt/1008-fiatal-lovak-programjai...\n",
      "Downloading pdf http://www.dijlovasok.hu/dokumentum/Hatarozatok/2018/11_2018.pdf...\n",
      "Downloading pdf http://www.dijlovasok.hu/dokumentum/Programgyujtemeny_2018/FD/FEI_7_FD_MIN.pdf...\n",
      "Downloading pdf http://www.dijlovasok.hu/dokumentum/Programgyujtemeny_2018/FD/FEI_6_FD_DONTO.pdf...\n",
      "Downloading pdf http://www.dijlovasok.hu/dokumentum/Programgyujtemeny_2018/FD/FEI_4_FD.pdf...\n",
      "Downloading pdf http://www.dijlovasok.hu/dokumentum/Programgyujtemeny_2018/FD/FEI_5_FD_DONTO.pdf...\n",
      "Downloading pdf http://www.dijlovasok.hu/dokumentum/Programgyujtemeny_2018/FD/FEI_7_FD_DONTO.pdf...\n",
      "Downloading pdf http://www.dijlovasok.hu/dokumentum/Hatarozatok/2018/10_2018.pdf...\n",
      "Downloading pdf http://www.dijlovasok.hu/dokumentum/Programgyujtemeny_2018/FD/FEI_6_FD_MIN.pdf...\n",
      "Downloading pdf http://www.dijlovasok.hu/dokumentum/Programgyujtemeny_2018/FD/5_FD_A4.pdf...\n",
      "Downloading pdf http://www.dijlovasok.hu/dokumentum/Hatarozatok/2018/9_2018.pdf...\n",
      "Downloading pdf http://www.dijlovasok.hu/dokumentum/Programgyujtemeny_2018/FD/5_FD_A3.pdf...\n",
      "Downloading pdf http://www.dijlovasok.hu/dokumentum/Programgyujtemeny_2018/FD/FEI_5_FD_MIN.pdf...\n",
      "Scraping page /index.php/programgyujt/1034-konnyu-kozep-osztalyu-feladatok-hatalyos-2018-05-01...\n",
      "Downloading pdf http://www.dijlovasok.hu/dokumentum/Programgyujtemeny_2018/LM/LM3.pdf...\n",
      "Downloading pdf http://www.dijlovasok.hu/dokumentum/Programgyujtemeny_2018/LM/Poni_zenes_kur.pdf...\n",
      "Downloading pdf http://www.dijlovasok.hu/dokumentum/Programgyujtemeny_2018/LM/Poni_elokeszito_feladat.pdf...\n",
      "Downloading pdf http://www.dijlovasok.hu/dokumentum/Programgyujtemeny_2018/LM/LM5.pdf...\n",
      "Downloading pdf http://www.dijlovasok.hu/dokumentum/Programgyujtemeny_2018/LM/LM1.pdf...\n",
      "Downloading pdf http://www.dijlovasok.hu/dokumentum/Programgyujtemeny_2018/LM/LM4.pdf...\n",
      "Downloading pdf http://www.dijlovasok.hu/dokumentum/Programgyujtemeny_2018/LM/Poni_egyeni_feladat.pdf...\n",
      "Downloading pdf http://www.dijlovasok.hu/dokumentum/Programgyujtemeny_2018/LM/LM6_kulon.pdf...\n",
      "Downloading pdf http://www.dijlovasok.hu/dokumentum/Programgyujtemeny_2018/LM/Poni_csapatfeladat.pdf...\n",
      "Downloading pdf http://www.dijlovasok.hu/dokumentum/Programgyujtemeny_2018/LM/LM7.pdf...\n",
      "Downloading pdf http://www.dijlovasok.hu/dokumentum/Programgyujtemeny_2018/LM/LM2.pdf...\n",
      "Downloading pdf http://www.dijlovasok.hu/dokumentum/Programgyujtemeny_2018/LM/LM5_kulon.pdf...\n",
      "Downloading pdf http://www.dijlovasok.hu/dokumentum/Programgyujtemeny_2018/LM/LM8.pdf...\n",
      "Downloading pdf http://www.dijlovasok.hu/dokumentum/Programgyujtemeny_2018/LM/LM6.pdf...\n",
      "Scraping page /index.php/programgyujt/1217-vezetoszaras-feladat...\n",
      "Downloading pdf http://www.dijlovasok.hu/dokumentum/Vezetoszar/Vezetoszar_protokoll.pdf...\n",
      "Scraping page /index.php/programgyujt/1031-elokeszito-feladatok-hatalyos-2018-05-01...\n",
      "Downloading pdf http://www.dijlovasok.hu/dokumentum/Programgyujtemeny_2018/E/E3_kulon.pdf...\n",
      "Downloading pdf http://www.dijlovasok.hu/dokumentum/Programgyujtemeny_2018/E/E8_kulon.pdf...\n",
      "Downloading pdf https://www.dijlovasok.hu/dokumentum/Programgyujtemeny_2018/E/E1.pdf...\n",
      "Downloading pdf http://www.dijlovasok.hu/dokumentum/Programgyujtemeny_2018/E/E8.pdf...\n",
      "Downloading pdf http://www.dijlovasok.hu/dokumentum/Programgyujtemeny_2018/E/E4.pdf...\n",
      "Downloading pdf http://www.dijlovasok.hu/dokumentum/Programgyujtemeny_2018/E/E5_kulon.pdf...\n",
      "Downloading pdf http://www.dijlovasok.hu/dokumentum/Programgyujtemeny_2018/E/E5_2018.pdf...\n",
      "Downloading pdf http://www.dijlovasok.hu/dokumentum/Programgyujtemeny_2018/E/E3.pdf...\n",
      "Scraping page /index.php/programgyujt/1037-nagydij-szintu-feladatok-hatalyos-2018-05-01...\n",
      "Downloading pdf http://www.dijlovasok.hu/dokumentum/Programgyujtemeny_2018/S2/Nagydij_zenes_kur.pdf...\n",
      "Downloading pdf https://www.dijlovasok.hu/dokumentum/Programgyujtemeny_2018/S2/Nagydij.pdf...\n",
      "Downloading pdf http://www.dijlovasok.hu/dokumentum/Programgyujtemeny_2018/S2/Fiatal_lovasok_nagydija.pdf...\n",
      "Downloading pdf https://www.dijlovasok.hu/dokumentum/Programgyujtemeny_2018/S2/Nagydij_special.pdf...\n",
      "Downloading pdf http://www.dijlovasok.hu/dokumentum/Programgyujtemeny_2018/S2/Intermediate_B_2023.pdf...\n",
      "Downloading pdf http://www.dijlovasok.hu/dokumentum/Programgyujtemeny_2018/S2/Intermediate_A.pdf...\n",
      "Downloading pdf http://www.dijlovasok.hu/dokumentum/Programgyujtemeny_2018/S2/Intermediate_II.pdf...\n",
      "Scraping page /index.php/programgyujt/1457-kozep-osztalyu-feladatok-mb-program...\n",
      "Downloading pdf http://www.dijlovasok.hu/dokumentum/Programgyujtemeny_2018/M/LSZ5_kulon.pdf...\n",
      "Downloading pdf https://www.dijlovasok.hu/dokumentum/Programgyujtemeny_2018/M/LSZ1.pdf...\n",
      "Downloading pdf http://www.dijlovasok.hu/dokumentum/Programgyujtemeny_2018/M/M_zenes_kur.pdf...\n",
      "Downloading pdf https://www.dijlovasok.hu/dokumentum/Programgyujtemeny_2018/M/LSZ2.pdf...\n",
      "Downloading pdf https://www.dijlovasok.hu/dokumentum/Programgyujtemeny_2018/M/LSZ3.pdf...\n",
      "Downloading pdf https://www.dijlovasok.hu/dokumentum/Programgyujtemeny_2018/M/LSZ4.pdf...\n",
      "Downloading pdf https://www.dijlovasok.hu/dokumentum/Programgyujtemeny_2018/M/LSZ6.pdf...\n",
      "Downloading pdf http://www.dijlovasok.hu/dokumentum/Programgyujtemeny_2018/M/LSZ6_kulon.pdf...\n",
      "Downloading pdf https://www.dijlovasok.hu/dokumentum/Programgyujtemeny_2018/M/LSZ7.pdf...\n",
      "Downloading pdf http://www.dijlovasok.hu/dokumentum/Programgyujtemeny_2018/M/LSZ7_kulon.pdf...\n",
      "Downloading pdf https://www.dijlovasok.hu/dokumentum/Programgyujtemeny_2018/M/LSZ5.pdf...\n",
      "Downloading pdf http://www.dijlovasok.hu/dokumentum/Programgyujtemeny_2018/M/LSZ4_kulon.pdf...\n",
      "Scraping page /index.php/programgyujt/1035-kozep-osztalyu-feladatok-hatalyos-2018-05-01...\n",
      "Downloading pdf https://www.dijlovasok.hu/dokumentum/Programgyujtemeny_2018/M/M5_kulon.pdf...\n",
      "Downloading pdf https://www.dijlovasok.hu/dokumentum/Programgyujtemeny_2018/M/M6.pdf...\n",
      "Downloading pdf https://www.dijlovasok.hu/dokumentum/Programgyujtemeny_2018/M/M2.pdf...\n",
      "Downloading pdf http://www.dijlovasok.hu/dokumentum/Programgyujtemeny_2018/M/M_kur_2.pdf...\n",
      "Downloading pdf http://www.dijlovasok.hu/dokumentum/Programgyujtemeny_2018/M/Junior_zenes_kur.pdf...\n",
      "Downloading pdf https://www.dijlovasok.hu/dokumentum/Programgyujtemeny_2018/M/M8.pdf...\n",
      "Downloading pdf https://www.dijlovasok.hu/dokumentum/Programgyujtemeny_2018/M/Junior_csapatfeladat.pdf...\n",
      "Downloading pdf https://www.dijlovasok.hu/dokumentum/Programgyujtemeny_2018/M/M3.pdf...\n",
      "Downloading pdf https://www.dijlovasok.hu/dokumentum/Programgyujtemeny_2018/M/M10.pdf...\n",
      "Downloading pdf https://www.dijlovasok.hu/dokumentum/Programgyujtemeny_2018/M/Junior_egyeni_feladat.pdf...\n",
      "Downloading pdf https://www.dijlovasok.hu/dokumentum/Programgyujtemeny_2018/M/M5.pdf...\n",
      "Downloading pdf https://www.dijlovasok.hu/dokumentum/Programgyujtemeny_2018/M/M7.pdf...\n",
      "Downloading pdf http://www.dijlovasok.hu/dokumentum/Programgyujtemeny_2018/M/Junior_elokeszito_feladat.pdf...\n",
      "Downloading pdf https://www.dijlovasok.hu/dokumentum/Programgyujtemeny_2018/M/M1.pdf...\n",
      "Downloading pdf https://www.dijlovasok.hu/dokumentum/Programgyujtemeny_2018/M/M9.pdf...\n",
      "Downloading pdf https://www.dijlovasok.hu/dokumentum/Programgyujtemeny_2018/M/M4.pdf...\n",
      "Scraping page /index.php/programgyujt/1032-alapfoku-feladatok-hatalyos-2018-05-01...\n",
      "Downloading pdf https://www.dijlovasok.hu/dokumentum/Programgyujtemeny_2018/A/A3.pdf...\n",
      "Downloading pdf https://www.dijlovasok.hu/dokumentum/Programgyujtemeny_2018/A/A9.pdf...\n",
      "Downloading pdf https://www.dijlovasok.hu/dokumentum/Programgyujtemeny_2018/A/A-_Challenge_Elkszt.pdf...\n",
      "Downloading pdf http://www.dijlovasok.hu/dokumentum/Hatarozatok/2020/31_2020.pdf...\n",
      "Downloading pdf http://www.dijlovasok.hu/dokumentum/Programgyujtemeny_2018/A/A6_kulon.pdf...\n",
      "Downloading pdf https://www.dijlovasok.hu/dokumentum/Programgyujtemeny_2018/A/A2.pdf...\n",
      "Downloading pdf https://www.dijlovasok.hu/dokumentum/Programgyujtemeny_2018/A/A7.pdf...\n",
      "Downloading pdf http://www.dijlovasok.hu/dokumentum/Programgyujtemeny_2018/A/A9_kulon.pdf...\n",
      "Downloading pdf https://www.dijlovasok.hu/dokumentum/Programgyujtemeny_2018/A/A10.pdf...\n",
      "Downloading pdf http://www.dijlovasok.hu/dokumentum/Programgyujtemeny_2018/A/A_zenes_kur.pdf...\n",
      "Downloading pdf https://www.dijlovasok.hu/dokumentum/Programgyujtemeny_2018/A/A5.pdf...\n",
      "Downloading pdf http://www.dijlovasok.hu/dokumentum/Programgyujtemeny_2018/A/Gyermek_elokeszito_A_2020.pdf...\n",
      "Downloading pdf https://www.dijlovasok.hu/dokumentum/Programgyujtemeny_2018/A/A1.pdf...\n",
      "Downloading pdf http://www.dijlovasok.hu/dokumentum/Programgyujtemeny_2018/A/A7_kulon.pdf...\n",
      "Downloading pdf https://www.dijlovasok.hu/dokumentum/Programgyujtemeny_2018/A/A4.pdf...\n",
      "Downloading pdf https://www.dijlovasok.hu/dokumentum/Programgyujtemeny_2018/A/A8.pdf...\n",
      "Downloading pdf https://www.dijlovasok.hu/dokumentum/Programgyujtemeny_2018/A/A6.pdf...\n",
      "Downloading pdf http://www.dijlovasok.hu/dokumentum/Programgyujtemeny_2018/A/A10_kulon.pdf...\n",
      "Scraping page /index.php/programgyujt/1036-nehez-osztalyu-feladatok-hatalyos-2018-05-01...\n",
      "Downloading pdf http://www.dijlovasok.hu/dokumentum/Programgyujtemeny_2018/S1/Fiatal_lovas_csapatfeladat.pdf...\n",
      "Downloading pdf http://www.dijlovasok.hu/dokumentum/Programgyujtemeny_2018/S1/Fiatal_lovas_zenes_kur.pdf...\n",
      "Downloading pdf http://www.dijlovasok.hu/dokumentum/Programgyujtemeny_2018/S1/Intermediaire_I_zenes_kur.pdf...\n",
      "Downloading pdf http://www.dijlovasok.hu/dokumentum/Programgyujtemeny_2018/S1/Fiatal_lovas_egyeni_feladat.pdf...\n",
      "Downloading pdf http://www.dijlovasok.hu/dokumentum/Programgyujtemeny_2018/S1/Fiatal_lovas_elokeszito_feladat.pdf...\n",
      "Downloading pdf http://www.dijlovasok.hu/dokumentum/Programgyujtemeny_2018/S1/Intermediaire_I.pdf...\n",
      "Downloading pdf http://www.dijlovasok.hu/dokumentum/Programgyujtemeny_2018/S1/Szent_Gyorgy_dij.pdf...\n",
      "Scraping page /index.php/programgyujt/1033-konnyu-osztalyu-feladatok-hatalyos-2018-05-01...\n",
      "Downloading pdf http://www.dijlovasok.hu/dokumentum/Programgyujtemeny_2018/L/Gyermek_egyeni_feladat_2020.pdf...\n",
      "Downloading pdf http://www.dijlovasok.hu/dokumentum/Programgyujtemeny_2018/L/L7_kulon.pdf...\n",
      "Downloading pdf http://www.dijlovasok.hu/dokumentum/Programgyujtemeny_2018/L/L11_kulon.pdf...\n",
      "Downloading pdf http://www.dijlovasok.hu/dokumentum/Programgyujtemeny_2018/L/L4_kulon.pdf...\n",
      "Downloading pdf http://www.dijlovasok.hu/dokumentum/Programgyujtemeny_2018/L/L9.pdf...\n",
      "Downloading pdf http://www.dijlovasok.hu/dokumentum/Programgyujtemeny_2018/L/Gyermek_csapatfeladat_2020.pdf...\n",
      "Downloading pdf http://www.dijlovasok.hu/dokumentum/Programgyujtemeny_2018/L/L_zenes_kur.pdf...\n",
      "Downloading pdf http://www.dijlovasok.hu/dokumentum/Programgyujtemeny_2018/L/L2.pdf...\n",
      "Downloading pdf http://www.dijlovasok.hu/dokumentum/Programgyujtemeny_2018/L/L8_kulon.pdf...\n",
      "Downloading pdf http://www.dijlovasok.hu/dokumentum/Programgyujtemeny_2018/L/L6_kulon.pdf...\n",
      "Downloading pdf http://www.dijlovasok.hu/dokumentum/Programgyujtemeny_2018/L/L11.pdf...\n",
      "Downloading pdf http://www.dijlovasok.hu/dokumentum/Programgyujtemeny_2018/L/L10.pdf...\n",
      "Downloading pdf http://www.dijlovasok.hu/dokumentum/Programgyujtemeny_2018/L/L4.pdf...\n",
      "Downloading pdf http://www.dijlovasok.hu/dokumentum/Programgyujtemeny_2018/L/L10_kulon.pdf...\n",
      "Downloading pdf http://www.dijlovasok.hu/dokumentum/Programgyujtemeny_2018/L/L8.pdf...\n",
      "Downloading pdf http://www.dijlovasok.hu/dokumentum/Programgyujtemeny_2018/L/Gyermek_elokeszito_B_2020.pdf...\n",
      "Downloading pdf http://www.dijlovasok.hu/dokumentum/Programgyujtemeny_2018/L/L7.pdf...\n",
      "Downloading pdf http://www.dijlovasok.hu/dokumentum/Programgyujtemeny_2018/L/L6.pdf...\n",
      "Downloading pdf http://www.dijlovasok.hu/dokumentum/Programgyujtemeny_2018/L/L1.pdf...\n",
      "Downloading pdf http://www.dijlovasok.hu/dokumentum/Programgyujtemeny_2018/L/L3.pdf...\n",
      "Downloading pdf http://www.dijlovasok.hu/dokumentum/Programgyujtemeny_2018/L/L9_kulon.pdf...\n",
      "Downloading pdf http://www.dijlovasok.hu/dokumentum/Programgyujtemeny_2018/L/L5.pdf...\n"
     ]
    }
   ],
   "source": [
    "database = get_pdf_dataframes()"
   ]
  },
  {
   "cell_type": "code",
   "execution_count": 17,
   "metadata": {},
   "outputs": [],
   "source": [
    "def inspect_database(database) :\n",
    "    for page_url in database:\n",
    "        page = database[page_url]\n",
    "        for program_url in page:\n",
    "            program = page[program_url]\n",
    "            for df in program:\n",
    "                yield df"
   ]
  },
  {
   "cell_type": "code",
   "execution_count": 18,
   "metadata": {},
   "outputs": [
    {
     "data": {
      "text/html": [
       "<div>\n",
       "<style scoped>\n",
       "    .dataframe tbody tr th:only-of-type {\n",
       "        vertical-align: middle;\n",
       "    }\n",
       "\n",
       "    .dataframe tbody tr th {\n",
       "        vertical-align: top;\n",
       "    }\n",
       "\n",
       "    .dataframe thead th {\n",
       "        text-align: right;\n",
       "    }\n",
       "</style>\n",
       "<table border=\"1\" class=\"dataframe\">\n",
       "  <thead>\n",
       "    <tr style=\"text-align: right;\">\n",
       "      <th></th>\n",
       "      <th>Unnamed: 0</th>\n",
       "      <th>Bajnokság megnevezése</th>\n",
       "      <th>Unnamed: 1</th>\n",
       "      <th>Unnamed: 2</th>\n",
       "      <th>Minõsítõ versenyszámok</th>\n",
       "      <th>Unnamed: 3</th>\n",
       "    </tr>\n",
       "  </thead>\n",
       "  <tbody>\n",
       "    <tr>\n",
       "      <th>0</th>\n",
       "      <td>4 éves lovak bajnoksága</td>\n",
       "      <td>FEI 4 éves fiatal díjló program</td>\n",
       "      <td>NaN</td>\n",
       "      <td>NaN</td>\n",
       "      <td>NaN</td>\n",
       "      <td>NaN</td>\n",
       "    </tr>\n",
       "    <tr>\n",
       "      <th>1</th>\n",
       "      <td>5 éves lovak bajnoksága</td>\n",
       "      <td>5 éves fiatal díjló program A3\\r5 éves fiatal ...</td>\n",
       "      <td>NaN</td>\n",
       "      <td>NaN</td>\n",
       "      <td>NaN</td>\n",
       "      <td>NaN</td>\n",
       "    </tr>\n",
       "    <tr>\n",
       "      <th>2</th>\n",
       "      <td>6 éves lovak bajnoksága</td>\n",
       "      <td>FEI 5 éves fiatal díjló minõsítõ program\\rFEI ...</td>\n",
       "      <td>NaN</td>\n",
       "      <td>NaN</td>\n",
       "      <td>NaN</td>\n",
       "      <td>NaN</td>\n",
       "    </tr>\n",
       "  </tbody>\n",
       "</table>\n",
       "</div>"
      ],
      "text/plain": [
       "                Unnamed: 0                              Bajnokság megnevezése  \\\n",
       "0  4 éves lovak bajnoksága                    FEI 4 éves fiatal díjló program   \n",
       "1  5 éves lovak bajnoksága  5 éves fiatal díjló program A3\\r5 éves fiatal ...   \n",
       "2  6 éves lovak bajnoksága  FEI 5 éves fiatal díjló minõsítõ program\\rFEI ...   \n",
       "\n",
       "   Unnamed: 1  Unnamed: 2  Minõsítõ versenyszámok  Unnamed: 3  \n",
       "0         NaN         NaN                     NaN         NaN  \n",
       "1         NaN         NaN                     NaN         NaN  \n",
       "2         NaN         NaN                     NaN         NaN  "
      ]
     },
     "execution_count": 18,
     "metadata": {},
     "output_type": "execute_result"
    }
   ],
   "source": [
    "next(inspect_database(database))"
   ]
  },
  {
   "cell_type": "code",
   "execution_count": 102,
   "metadata": {},
   "outputs": [
    {
     "data": {
      "text/html": [
       "<div>\n",
       "<style scoped>\n",
       "    .dataframe tbody tr th:only-of-type {\n",
       "        vertical-align: middle;\n",
       "    }\n",
       "\n",
       "    .dataframe tbody tr th {\n",
       "        vertical-align: top;\n",
       "    }\n",
       "\n",
       "    .dataframe thead th {\n",
       "        text-align: right;\n",
       "    }\n",
       "</style>\n",
       "<table border=\"1\" class=\"dataframe\">\n",
       "  <thead>\n",
       "    <tr style=\"text-align: right;\">\n",
       "      <th></th>\n",
       "      <th>Unnamed: 0</th>\n",
       "      <th>Feladat</th>\n",
       "    </tr>\n",
       "  </thead>\n",
       "  <tbody>\n",
       "    <tr>\n",
       "      <th>0</th>\n",
       "      <td>AXC\\rC\\rCMBFA\\rAXC\\rHK\\rKA\\rA és F között\\rFXH...</td>\n",
       "      <td>Belovaglás munkaügetésben a középvonalon állj ...</td>\n",
       "    </tr>\n",
       "  </tbody>\n",
       "</table>\n",
       "</div>"
      ],
      "text/plain": [
       "                                          Unnamed: 0  \\\n",
       "0  AXC\\rC\\rCMBFA\\rAXC\\rHK\\rKA\\rA és F között\\rFXH...   \n",
       "\n",
       "                                             Feladat  \n",
       "0  Belovaglás munkaügetésben a középvonalon állj ...  "
      ]
     },
     "execution_count": 102,
     "metadata": {},
     "output_type": "execute_result"
    }
   ],
   "source": [
    "list(list(database.values())[0].values())[3][1]"
   ]
  },
  {
   "cell_type": "code",
   "execution_count": 103,
   "metadata": {},
   "outputs": [],
   "source": [
    "from pandas import DataFrame\n",
    "from typing import List\n",
    "\n",
    "def convert_program_dfs_to_useful_df (dfs: List[DataFrame]) :\n",
    "            \n",
    "    dfs = list(filter(lambda df: len(df) != 0, dfs))\n",
    "    \n",
    "    if len(dfs) == 0 :\n",
    "        return None\n",
    "    \n",
    "    if len(dfs) == 1 :\n",
    "        if len(dfs[0]) != 0 :\n",
    "            return dfs[0]\n",
    "        else :\n",
    "            return None\n",
    "    \n",
    "    # joining\n",
    "    \n",
    "    result = dfs[0]\n",
    "    \n",
    "    column_num = len(result.columns)\n",
    "    \n",
    "    for df in dfs[1:] :\n",
    "        \n",
    "        if len(df.columns) == column_num :\n",
    "            result = pd.concat([result, df], ignore_index = True)\n",
    "            continue\n",
    "        \n",
    "        if len(df.columns) == column_num + 2 :\n",
    "            \n",
    "            columns = df.columns\n",
    "            \n",
    "            df = df.drop(columns[0], axis=1)\n",
    "            df = df.drop(columns[-1], axis=1)\n",
    "            \n",
    "            # rename unnamed columns\n",
    "            \n",
    "            def column_renamer(column):\n",
    "                if str(column).startswith(\"Unnamed\") == False :\n",
    "                    return column\n",
    "                num = int(column.split(\" \")[1]) - 1\n",
    "                return \"Unnamed: \" + str(num)\n",
    "            \n",
    "            df = df.rename(column_renamer, axis=1)\n",
    "            \n",
    "            result = pd.concat([result, df], ignore_index = True)\n",
    "            continue\n",
    "        \n",
    "        # raise Exception(f\"WARNING: df column width mismatch: cannot append {len(df.columns)} to {column_num}!\")\n",
    "        \n",
    "    return result"
   ]
  },
  {
   "cell_type": "code",
   "execution_count": 104,
   "metadata": {},
   "outputs": [],
   "source": [
    "\n",
    "def convert_database_to_useful_dfs (database) :\n",
    "    for page in database.values() :\n",
    "        for program_url in page :\n",
    "            program = page[program_url]\n",
    "            try :\n",
    "                yield (program_url, convert_program_dfs_to_useful_df(program))\n",
    "            except Exception as e :\n",
    "                print(f\"URL in question: {program_url}\")\n",
    "                raise e"
   ]
  },
  {
   "cell_type": "code",
   "execution_count": 105,
   "metadata": {},
   "outputs": [],
   "source": [
    "from typing import Tuple\n",
    "\n",
    "def is_df_program(program: Tuple[str, DataFrame]) :\n",
    "    \n",
    "    url, df = program\n",
    "    \n",
    "    if \"Feladat\" not in df.columns :\n",
    "        return False\n",
    "    \n",
    "    if len(df) <= 5 :\n",
    "        return False\n",
    "    \n",
    "    if \"Négyszöget\" not in df[\"Feladat\"][pd.Series.last_valid_index(df[\"Feladat\"])] :\n",
    "        return False\n",
    "    \n",
    "    try :\n",
    "        if int(df[\"Unnamed: 0\"][0]) != 1 :\n",
    "            return False\n",
    "    except ValueError :\n",
    "        return False\n",
    "    \n",
    "    return True"
   ]
  },
  {
   "cell_type": "code",
   "execution_count": 112,
   "metadata": {},
   "outputs": [],
   "source": [
    "filtered_programs = list(filter(is_df_program, convert_database_to_useful_dfs(database)))"
   ]
  },
  {
   "cell_type": "code",
   "execution_count": 115,
   "metadata": {},
   "outputs": [],
   "source": [
    "def rename_columns (program: Tuple[str, DataFrame]) :\n",
    "    url, df = program\n",
    "    df = df.rename({\n",
    "        \"Unnamed: 0\": \"Id\",\n",
    "        \"Unnamed: 1\": \"Letter\"\n",
    "    }, axis=1, inplace=False)\n",
    "    return (url, df)"
   ]
  },
  {
   "cell_type": "code",
   "execution_count": 158,
   "metadata": {},
   "outputs": [],
   "source": [
    "programs = list(map(rename_columns, filtered_programs))"
   ]
  },
  {
   "cell_type": "code",
   "execution_count": 159,
   "metadata": {},
   "outputs": [],
   "source": [
    "def keep_only_useful_columns (program: Tuple[str, DataFrame]) :\n",
    "    url, df = program\n",
    "    columns = df.columns\n",
    "    columns = filter(lambda c: c not in [\"Id\", \"Letter\", \"Feladat\"], columns)\n",
    "    for column in columns :\n",
    "        df = df.drop(column, axis = 1)\n",
    "    return (url, df)"
   ]
  },
  {
   "cell_type": "code",
   "execution_count": 160,
   "metadata": {},
   "outputs": [],
   "source": [
    "programs = list(map(keep_only_useful_columns, programs))"
   ]
  },
  {
   "cell_type": "code",
   "execution_count": 161,
   "metadata": {},
   "outputs": [],
   "source": [
    "def keep_only_useful_rows (program: Tuple[str, DataFrame]) :\n",
    "    url, df = program\n",
    "    return (url, df.dropna(axis=0, how=\"any\", subset=[\"Id\"]))"
   ]
  },
  {
   "cell_type": "code",
   "execution_count": 162,
   "metadata": {},
   "outputs": [],
   "source": [
    "programs = list(map(keep_only_useful_rows, programs))"
   ]
  },
  {
   "cell_type": "code",
   "execution_count": 163,
   "metadata": {},
   "outputs": [
    {
     "data": {
      "text/plain": [
       "42"
      ]
     },
     "execution_count": 163,
     "metadata": {},
     "output_type": "execute_result"
    }
   ],
   "source": [
    "len(programs)"
   ]
  },
  {
   "cell_type": "code",
   "execution_count": 164,
   "metadata": {},
   "outputs": [],
   "source": [
    "def tokenize_exercise (letters: str, exercise: str) :\n",
    "    \n",
    "    if str(exercise) != \"nan\" :\n",
    "        rows = str(exercise).split(\"\\r\")\n",
    "        words = [str(row).split() for row in rows]\n",
    "    else :\n",
    "        words = []\n",
    "    \n",
    "    if str(letters) != \"nan\" :\n",
    "        letter_rows = str(letters).split('\\r')\n",
    "        letter_words = [str(letter_row).split() for letter_row in letter_rows]\n",
    "    else :\n",
    "        letter_words = []\n",
    "    \n",
    "    return (letter_words, words)"
   ]
  },
  {
   "cell_type": "code",
   "execution_count": 165,
   "metadata": {},
   "outputs": [],
   "source": [
    "def tokenize_program(program: Tuple[str, DataFrame]) :\n",
    "    url, df = program\n",
    "    tokens = []\n",
    "    for index, row in df.iterrows() :\n",
    "        tokens.append(tokenize_exercise(row[\"Letter\"], row[\"Feladat\"]))\n",
    "    return (url, tokens)"
   ]
  },
  {
   "cell_type": "code",
   "execution_count": 166,
   "metadata": {},
   "outputs": [],
   "source": [
    "programs = [tokenize_program(program) for program in programs]"
   ]
  },
  {
   "cell_type": "code",
   "execution_count": 167,
   "metadata": {},
   "outputs": [
    {
     "data": {
      "text/plain": [
       "('https://www.dijlovasok.hu/dokumentum/Programgyujtemeny_2018/M/LSZ2.pdf',\n",
       " [([['A'], ['X'], [], ['C']],\n",
       "   [['Belovaglás', 'összeszedett', 'ügetésben'],\n",
       "    ['Állj,', 'köszönés,', 'elindulás', 'összeszedett'],\n",
       "    ['ügetésbe'],\n",
       "    ['Jobb', 'kézre']]),\n",
       "  ([['B']], [['Kiskör,', '10m']]),\n",
       "  ([['B-F']], [['Vállat', 'be']]),\n",
       "  ([['A'], ['D', 'és', 'X-M', 'között']],\n",
       "   [['Középbõl'], ['Jobbra', 'oldaljárás']]),\n",
       "  ([['M-C-H-E'], ['E']], [['Összeszedett', 'ügetés'], ['Kiskör,', '10m']]),\n",
       "  ([['E-K']], [['Vállat', 'be']]),\n",
       "  ([['A'], ['D', 'ÉS', 'X-H', 'között']],\n",
       "   [['Középbõl'], ['Balra', 'oldaljárás']]),\n",
       "  ([['(H-M)'], ['M-K'], ['K']],\n",
       "   [['(Összeszedett', 'ügetés)'],\n",
       "    ['Átlóváltás,', 'középügetés'],\n",
       "    ['Összeszedett', 'ügetés']]),\n",
       "  ([],\n",
       "   [['Átmenetek', 'összeszedett', 'ügetésbõl'],\n",
       "    ['középügetésbe', 'és', 'középügetésbõl'],\n",
       "    ['összeszedett', 'ügetésbe']]),\n",
       "  ([['K-A-B'], ['B']],\n",
       "   [['Összeszedett', 'ügetés'],\n",
       "    ['Röviden', 'hátra', 'arc,', 'abból', 'középlépés']]),\n",
       "  ([['F']], [['Röviden', 'hátra', 'arc']]),\n",
       "  ([['(B-F-B)']], [['(A', 'középlépés)']]),\n",
       "  ([['B-H'], ['H']],\n",
       "   [['Félátlóváltás,', 'nyújtott', 'lépés'], ['Középlépés']]),\n",
       "  ([['C'], ['M-E']], [['Összeszedett', 'vágta', 'jobbra'], ['Félátlóváltás']]),\n",
       "  ([['E-A']], [['Ellenvágta']]),\n",
       "  ([['A']], [['Egyszerû', 'ugrásváltás']]),\n",
       "  ([['F-H']], [['Átlóváltás']]),\n",
       "  ([['X-H', 'között']], [['Ugrásváltás']]),\n",
       "  ([['M-F'], ['F']], [['Középvágta'], ['Összeszedett', 'vágta']]),\n",
       "  ([],\n",
       "   [['Átmenetek', 'összeszedett', 'vágtából', 'közép-'],\n",
       "    ['vágtába', 'és', 'középvágtából', 'összeszedett'],\n",
       "    ['vágtába']]),\n",
       "  ([['K-B']], [['Félátlóváltás']]),\n",
       "  ([['B-M']], [['Ellenvágta']]),\n",
       "  ([['M']], [['Ugrásváltás']]),\n",
       "  ([['C']], [['Átmenet', 'összeszedett', 'ügetésbe']]),\n",
       "  ([['H-F'], ['F']],\n",
       "   [['Átlóváltás,', 'középügetés'], ['Összeszedett', 'ügetés']]),\n",
       "  ([],\n",
       "   [['Átmenetek', 'összeszedett', 'ügetésbõl'],\n",
       "    ['középügetésbe', 'és', 'középügetésbõl'],\n",
       "    ['összeszedett', 'ügetésbe']]),\n",
       "  ([['E'], ['(F-K-E-X)']],\n",
       "   [['Fordulat', 'jobbra'], ['(Összeszedett', 'ügetés)']]),\n",
       "  ([['X']],\n",
       "   [['Állj,', '4', 'lépést', 'hátralépj,', 'abból'],\n",
       "    ['Összeszedett', 'ügetés']]),\n",
       "  ([['B'], ['B-A']], [['Jobb', 'kézre'], ['Összeszedett', 'ügetés']]),\n",
       "  ([['A'], ['X']], [['Középbõl'], ['Állj,', 'köszönés']])])"
      ]
     },
     "execution_count": 167,
     "metadata": {},
     "output_type": "execute_result"
    }
   ],
   "source": [
    "programs[3]"
   ]
  },
  {
   "cell_type": "code",
   "execution_count": null,
   "metadata": {},
   "outputs": [],
   "source": []
  }
 ],
 "metadata": {
  "kernelspec": {
   "display_name": "DataAnalyst",
   "language": "python",
   "name": "python3"
  },
  "language_info": {
   "codemirror_mode": {
    "name": "ipython",
    "version": 3
   },
   "file_extension": ".py",
   "mimetype": "text/x-python",
   "name": "python",
   "nbconvert_exporter": "python",
   "pygments_lexer": "ipython3",
   "version": "3.8.13"
  },
  "orig_nbformat": 4
 },
 "nbformat": 4,
 "nbformat_minor": 2
}
